{
  "cells": [
    {
      "cell_type": "markdown",
      "metadata": {
        "id": "view-in-github",
        "colab_type": "text"
      },
      "source": [
        "<a href=\"https://colab.research.google.com/github/muhammadali74/My_CUDA_Repo/blob/main/Week4/Simple2D.ipynb\" target=\"_parent\"><img src=\"https://colab.research.google.com/assets/colab-badge.svg\" alt=\"Open In Colab\"/></a>"
      ]
    },
    {
      "cell_type": "code",
      "execution_count": 1,
      "metadata": {
        "colab": {
          "base_uri": "https://localhost:8080/"
        },
        "id": "NEC1YQlf9uiU",
        "outputId": "417ab586-bf34-4343-cecb-ed1986595921"
      },
      "outputs": [
        {
          "output_type": "stream",
          "name": "stdout",
          "text": [
            "Collecting git+https://github.com/andreinechaev/nvcc4jupyter.git\n",
            "  Cloning https://github.com/andreinechaev/nvcc4jupyter.git to /tmp/pip-req-build-q04kn03k\n",
            "  Running command git clone --filter=blob:none --quiet https://github.com/andreinechaev/nvcc4jupyter.git /tmp/pip-req-build-q04kn03k\n",
            "  Resolved https://github.com/andreinechaev/nvcc4jupyter.git to commit 5cd225851b7638f3f6d55a19328295f16c014079\n",
            "  Installing build dependencies ... \u001b[?25l\u001b[?25hdone\n",
            "  Getting requirements to build wheel ... \u001b[?25l\u001b[?25hdone\n",
            "  Preparing metadata (pyproject.toml) ... \u001b[?25l\u001b[?25hdone\n",
            "Building wheels for collected packages: nvcc4jupyter\n",
            "  Building wheel for nvcc4jupyter (pyproject.toml) ... \u001b[?25l\u001b[?25hdone\n",
            "  Created wheel for nvcc4jupyter: filename=nvcc4jupyter-1.0.3-py3-none-any.whl size=7432 sha256=ad99cf1e6175f37f13398802e9e82d42885745e385f9d1c2ce678f3d359f3a95\n",
            "  Stored in directory: /tmp/pip-ephem-wheel-cache-7zos_h3q/wheels/a8/b9/18/23f8ef71ceb0f63297dd1903aedd067e6243a68ea756d6feea\n",
            "Successfully built nvcc4jupyter\n",
            "Installing collected packages: nvcc4jupyter\n",
            "Successfully installed nvcc4jupyter-1.0.3\n",
            "Source files will be saved in \"/tmp/tmprcpoicla\".\n"
          ]
        }
      ],
      "source": [
        "!pip install git+https://github.com/andreinechaev/nvcc4jupyter.git\n",
        "%load_ext nvcc4jupyter"
      ]
    },
    {
      "cell_type": "code",
      "execution_count": 12,
      "metadata": {
        "colab": {
          "base_uri": "https://localhost:8080/"
        },
        "id": "prZ5rRtQ91Lu",
        "outputId": "4283aaee-c469-45ee-d7e4-b4df70f8935a"
      },
      "outputs": [
        {
          "output_type": "stream",
          "name": "stdout",
          "text": [
            " 0  1  2  3 16 17 18 19 32 33 34 35 48 49 50 51 \n",
            " 4  5  6  7 20 21 22 23 36 37 38 39 52 53 54 55 \n",
            " 8  9 10 11 24 25 26 27 40 41 42 43 56 57 58 59 \n",
            "12 13 14 15 28 29 30 31 44 45 46 47 60 61 62 63 \n",
            "64 65 66 67 80 81 82 83 96 97 98 99 112 113 114 115 \n",
            "68 69 70 71 84 85 86 87 100 101 102 103 116 117 118 119 \n",
            "72 73 74 75 88 89 90 91 104 105 106 107 120 121 122 123 \n",
            "76 77 78 79 92 93 94 95 108 109 110 111 124 125 126 127 \n",
            "128 129 130 131 144 145 146 147 160 161 162 163 176 177 178 179 \n",
            "132 133 134 135 148 149 150 151 164 165 166 167 180 181 182 183 \n",
            "136 137 138 139 152 153 154 155 168 169 170 171 184 185 186 187 \n",
            "140 141 142 143 156 157 158 159 172 173 174 175 188 189 190 191 \n",
            "192 193 194 195 208 209 210 211 224 225 226 227 240 241 242 243 \n",
            "196 197 198 199 212 213 214 215 228 229 230 231 244 245 246 247 \n",
            "200 201 202 203 216 217 218 219 232 233 234 235 248 249 250 251 \n",
            "204 205 206 207 220 221 222 223 236 237 238 239 252 253 254 255 \n",
            "\n",
            "\n"
          ]
        }
      ],
      "source": [
        "%%cuda\n",
        "//Taken from: https://code.google.com/p/stanford-cs193g-sp2010/wiki/TutorialMultidimensionalKernelLaunch\n",
        "\n",
        "#include <stdlib.h>\n",
        "#include <stdio.h>\n",
        "\n",
        "__global__ void kernel(int *array)\n",
        "{\n",
        "  int index_x = blockIdx.x * blockDim.x + threadIdx.x;\n",
        "  int index_y = blockIdx.y * blockDim.y + threadIdx.y;\n",
        "\n",
        "  // map the two 2D indices to a single linear, 1D index\n",
        "  int grid_width = gridDim.x * blockDim.x;\n",
        "  int index = index_y * grid_width + index_x;\n",
        "\n",
        "  // map the two 2D block indices to a single linear, 1D block index\n",
        "  int result = blockIdx.y * gridDim.x + blockIdx.x;\n",
        "\n",
        "  // write out the result\n",
        "  // array[index] = result;\n",
        "  // array[index] = result*(blockDim.x * blockDim.y) + threadIdx.y * blockDim.y + threadIdx.x;\n",
        "  array[index] = blockDim.y* (result*blockDim.x + threadIdx.y) + threadIdx.x;\n",
        "}\n",
        "\n",
        "int main(void)\n",
        "{\n",
        "  int num_elements_x = 16;\n",
        "  int num_elements_y = 16;\n",
        "\n",
        "  int num_bytes = num_elements_x * num_elements_y * sizeof(int);\n",
        "\n",
        "  int *device_array = 0;\n",
        "  int *host_array = 0;\n",
        "\n",
        "  // allocate memory in either space\n",
        "  host_array = (int*)malloc(num_bytes);\n",
        "  cudaMalloc((void**)&device_array, num_bytes);\n",
        "\n",
        "  // create two dimensional 4x4 thread blocks\n",
        "  dim3 block_size;\n",
        "  block_size.x = 4;\n",
        "  block_size.y = 4;\n",
        "\n",
        "  // configure a two dimensional grid as well\n",
        "  dim3 grid_size;\n",
        "  grid_size.x = num_elements_x / block_size.x;\n",
        "  grid_size.y = num_elements_y / block_size.y;\n",
        "\n",
        "  // grid_size & block_size are passed as arguments to the triple chevrons as usual\n",
        "  kernel<<<grid_size,block_size>>>(device_array);\n",
        "\n",
        "  // download and inspect the result on the host:\n",
        "  cudaMemcpy(host_array, device_array, num_bytes, cudaMemcpyDeviceToHost);\n",
        "\n",
        "  // print out the result element by element\n",
        "  for(int row = 0; row < num_elements_y; ++row)\n",
        "  {\n",
        "    for(int col = 0; col < num_elements_x; ++col)\n",
        "    {\n",
        "      printf(\"%2d \", host_array[row * num_elements_x + col]);\n",
        "    }\n",
        "    printf(\"\\n\");\n",
        "  }\n",
        "  printf(\"\\n\");\n",
        "\n",
        "  // deallocate memory\n",
        "  free(host_array);\n",
        "  cudaFree(device_array);\n",
        "}"
      ]
    }
  ],
  "metadata": {
    "accelerator": "GPU",
    "colab": {
      "name": "Simple2D.ipynb",
      "provenance": [],
      "include_colab_link": true
    },
    "kernelspec": {
      "display_name": "Python 3",
      "name": "python3"
    },
    "language_info": {
      "name": "python"
    }
  },
  "nbformat": 4,
  "nbformat_minor": 0
}